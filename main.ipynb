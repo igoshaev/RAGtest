{
 "cells": [
  {
   "cell_type": "code",
   "execution_count": 13,
   "metadata": {},
   "outputs": [],
   "source": [
    "import os\n",
    "import torch\n",
    "import chromadb\n",
    "from transformers import AutoTokenizer, AutoModel\n",
    "import json"
   ]
  },
  {
   "cell_type": "code",
   "execution_count": 37,
   "metadata": {},
   "outputs": [
    {
     "name": "stderr",
     "output_type": "stream",
     "text": [
      "Asking to truncate to max_length but no maximum length is provided and the model has no predefined maximum length. Default to no truncation.\n",
      "Add of existing embedding ID: text1.txt\n",
      "Add of existing embedding ID: text2.txt\n",
      "Insert of existing embedding ID: text1.txt\n",
      "Insert of existing embedding ID: text2.txt\n"
     ]
    },
    {
     "name": "stdout",
     "output_type": "stream",
     "text": [
      "Добавлено 2 документов в коллекцию 'text_embeddings'.\n"
     ]
    }
   ],
   "source": [
    "class RuModernBERTEmbedding:\n",
    "    \"\"\"Функция эмбеддинга на основе deepvk/RuModernBERT-small для использования в ChromaDB\"\"\"\n",
    "\n",
    "    def __init__(self, model_name=\"deepvk/RuModernBERT-small\"):\n",
    "        self.tokenizer = AutoTokenizer.from_pretrained(model_name)\n",
    "        self.model = AutoModel.from_pretrained(model_name)\n",
    "\n",
    "    def get_embeddings(self, texts):\n",
    "        \"\"\"Генерирует эмбеддинги для списка текстов\"\"\"\n",
    "        inputs = self.tokenizer(texts, padding=True, truncation=True, return_tensors=\"pt\")\n",
    "        with torch.no_grad():\n",
    "            outputs = self.model(**inputs)\n",
    "        embeddings = outputs.last_hidden_state.mean(dim=1)\n",
    "        return embeddings.cpu().numpy().tolist()  # Преобразуем в список списков\n",
    "\n",
    "# Создаем клиент ChromaDB с сохранением данных\n",
    "chroma_client = chromadb.PersistentClient(path=\"./chroma_db\")\n",
    "\n",
    "# Создаем коллекцию (если её нет, создаст новую)\n",
    "collection_name = \"text_embeddings\"\n",
    "collection = chroma_client.get_or_create_collection(name=collection_name)\n",
    "\n",
    "# Создаем объект эмбеддинга\n",
    "embedding_function = RuModernBERTEmbedding()\n",
    "\n",
    "# Путь к папке с текстовыми файлами\n",
    "folder_path = 'Annotations'\n",
    "\n",
    "# Получение списка всех файлов в папке\n",
    "file_names = os.listdir(folder_path)\n",
    "\n",
    "# Читаем содержимое файлов\n",
    "documents = []\n",
    "ids = []\n",
    "\n",
    "for file_name in file_names:\n",
    "    file_path = os.path.join(folder_path, file_name)\n",
    "    with open(file_path, 'r', encoding='utf-8') as file:\n",
    "        text = file.read()\n",
    "        documents.append(text)\n",
    "        ids.append(file_name)  # Используем имя файла как ID\n",
    "\n",
    "# Генерируем эмбеддинги\n",
    "embeddings = embedding_function.get_embeddings(documents)\n",
    "\n",
    "# Добавляем данные в ChromaDB\n",
    "collection.add(\n",
    "    ids=ids,\n",
    "    documents=documents,\n",
    "    embeddings=embeddings\n",
    ")\n",
    "\n",
    "print(f\"Добавлено {len(documents)} документов в коллекцию '{collection_name}'.\")\n",
    "\n"
   ]
  },
  {
   "cell_type": "code",
   "execution_count": 46,
   "metadata": {},
   "outputs": [
    {
     "name": "stdout",
     "output_type": "stream",
     "text": [
      "IDs: [['text1.txt', 'text2.txt']]\n",
      "Documents: [['Аннотация к судебному решению по делу номер А41-93574 2024. Истец индивидуальный предприниматель Антонова ЮА подала иск к ООО РВБ о взыскании неосновательного обогащения в размере 300000 рублей, процентов за пользование чужими денежными средствами в размере 13267 рублей 79 копеек, расходов на оплату услуг представителя в размере 55000 рублей и государственной пошлины в размере 20663 рублей. Основанием для иска стало удержание маркетплейсом Вайлдберриз штрафов за нарушение правил использования площадки, а именно за использование механик искусственного завышения рейтинга через самовыкупы товаров. Истец утверждает, что штрафы в размере 300000 рублей были начислены необоснованно и самовыкупы не совершались, в связи с чем требует возврата удержанных средств как неосновательного обогащения. Ответчик ООО РВБ и третье лицо Вайлдберриз утверждают, что штрафы были начислены правомерно в соответствии с условиями оферты, запрещающей манипулирование рейтингами, включая самовыкупы. В качестве доказательств представлены скриншоты заказов, подтверждающие, что товары истца выкупались пользователем личного кабинета продавца, а также осуществлялся массовый выкуп товаров с фиктивных аккаунтов. Кроме того, заказы осуществлялись на одни и те же пункты выдачи в короткие промежутки времени. Ответчик установил связь между аккаунтами, которые заказывали товары истца и оставляли положительные отзывы, что указывает на искусственное завышение рейтинга. Суд установил, что истцом действительно использовались механики искусственного завышения рейтинга через самовыкуп и на основании оферты штрафы в размере 300000 рублей были начислены правомерно. Суд отметил, что истец не представил убедительных доказательств опровержения доводов ответчика. В результате суд отказал в удовлетворении исковых требований индивидуального предпринимателя Антоновой ЮА в полном объеме. Решение может быть обжаловано в Десятый арбитражный апелляционный суд в течение пятнадцати дней. Данное судебное решение подтверждает правомерность действий маркетплейсов по наложению штрафов за нарушение правил использования площадок, в частности за самовыкупы товаров для манипулирования рейтингами, и может служить прецедентом для аналогичных споров.\\n', 'Детство Федора Достоевского, его братьев и сестер прошло в Москве. Отец будущего писателя, Михаил Достоевский, работал штаб-лекарем московской Мариинской больницы для бедных. Мать — Мария Нечаева — происходила из среды московского купечества. Дети придерживались домашнего порядка, установленного отцом. В семье часто устраивали вечерние чтения, няня рассказывала русские сказки. Летом семья выезжала в небольшое поместье в селе Даровом Тульской губернии. Федор Достоевский в воспоминаниях называл детство лучшей порой его жизни.\\nХотя семья была небогата, детям старались дать хорошее образование. Отец сам преподавал им латынь, приходящие учителя — математику, французский язык и русскую словесность. После смерти матери в 1837 году Федора Достоевского и его старшего брата Михаила отправили учиться в Петербург — в Инженерное училище. Но Достоевский об этом времени вспоминал так: «Мечтали мы только о поэзии и о поэтах».']]\n",
      "Distances: [[41.49515636835026, 53.861627180636546]]\n"
     ]
    }
   ],
   "source": [
    "# Поиск по векторной базе\n",
    "query = \"Жизнь российского писателя?\"\n",
    "search_results = collection.query(\n",
    "    query_embeddings=embedding_function.get_embeddings([query]),  # Генерируем эмбеддинг запроса\n",
    "    n_results=2\n",
    ")\n",
    "\n",
    "# Извлекаем нужные данные\n",
    "ids = search_results.get(\"ids\", [])\n",
    "documents = search_results.get(\"documents\", [])\n",
    "distances = search_results.get(\"distances\", [])\n",
    "\n",
    "# Выводим результаты\n",
    "print(\"IDs:\", ids)\n",
    "print(\"Documents:\", documents)\n",
    "print(\"Distances:\", distances)\n"
   ]
  }
 ],
 "metadata": {
  "kernelspec": {
   "display_name": "Python 3",
   "language": "python",
   "name": "python3"
  },
  "language_info": {
   "codemirror_mode": {
    "name": "ipython",
    "version": 3
   },
   "file_extension": ".py",
   "mimetype": "text/x-python",
   "name": "python",
   "nbconvert_exporter": "python",
   "pygments_lexer": "ipython3",
   "version": "3.12.5"
  }
 },
 "nbformat": 4,
 "nbformat_minor": 2
}
